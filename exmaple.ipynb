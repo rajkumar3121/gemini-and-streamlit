# Importing necessary libraries
import numpy as np
import matplotlib.pyplot as plt
from sklearn.model_selection import train_test_split
from sklearn.linear_model import LinearRegression
from sklearn.metrics import mean_squared_error

# Generating some synthetic data
np.random.seed(0)
X = 2 * np.random.rand(100, 1)
y = 4 + 3 * X + np.random.randn(100, 1)

# Splitting the data into training and testing sets
X_train, X_test, y_train, y_test = train_test_split(X, y, test_size=0.2, random_state=42)

# Training the linear regression model
lin_reg = LinearRegression()
lin_reg.fit(X_train, y_train)

# Making predictions on the testing set
y_pred = lin_reg.predict(X_test)

# Calculating Mean Squared Error (MSE) on testing set
mse = mean_squared_error(y_test, y_pred)

# Plotting the training data and the linear regression line
plt.scatter(X_train, y_train, color='blue')
plt.plot(X_test, y_pred, color='red')
plt.title('Linear Regression')
plt.xlabel('X')
plt.ylabel('y')
plt.show()

print("Mean Squared Error (MSE):", mse)
